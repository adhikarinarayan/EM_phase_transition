{
 "cells": [
  {
   "cell_type": "code",
   "execution_count": 2,
   "metadata": {},
   "outputs": [
    {
     "name": "stdout",
     "output_type": "stream",
     "text": [
      "Collecting seaborn\n",
      "  Downloading seaborn-0.13.2-py3-none-any.whl.metadata (5.4 kB)\n",
      "Requirement already satisfied: numpy!=1.24.0,>=1.20 in /system/conda/miniconda3/envs/cloudspace/lib/python3.10/site-packages (from seaborn) (1.26.4)\n",
      "Requirement already satisfied: pandas>=1.2 in /system/conda/miniconda3/envs/cloudspace/lib/python3.10/site-packages (from seaborn) (2.1.4)\n",
      "Requirement already satisfied: matplotlib!=3.6.1,>=3.4 in /system/conda/miniconda3/envs/cloudspace/lib/python3.10/site-packages (from seaborn) (3.8.2)\n",
      "Requirement already satisfied: contourpy>=1.0.1 in /system/conda/miniconda3/envs/cloudspace/lib/python3.10/site-packages (from matplotlib!=3.6.1,>=3.4->seaborn) (1.3.2)\n",
      "Requirement already satisfied: cycler>=0.10 in /system/conda/miniconda3/envs/cloudspace/lib/python3.10/site-packages (from matplotlib!=3.6.1,>=3.4->seaborn) (0.12.1)\n",
      "Requirement already satisfied: fonttools>=4.22.0 in /system/conda/miniconda3/envs/cloudspace/lib/python3.10/site-packages (from matplotlib!=3.6.1,>=3.4->seaborn) (4.59.0)\n",
      "Requirement already satisfied: kiwisolver>=1.3.1 in /system/conda/miniconda3/envs/cloudspace/lib/python3.10/site-packages (from matplotlib!=3.6.1,>=3.4->seaborn) (1.4.8)\n",
      "Requirement already satisfied: packaging>=20.0 in /system/conda/miniconda3/envs/cloudspace/lib/python3.10/site-packages (from matplotlib!=3.6.1,>=3.4->seaborn) (25.0)\n",
      "Requirement already satisfied: pillow>=8 in /system/conda/miniconda3/envs/cloudspace/lib/python3.10/site-packages (from matplotlib!=3.6.1,>=3.4->seaborn) (11.3.0)\n",
      "Requirement already satisfied: pyparsing>=2.3.1 in /system/conda/miniconda3/envs/cloudspace/lib/python3.10/site-packages (from matplotlib!=3.6.1,>=3.4->seaborn) (3.2.3)\n",
      "Requirement already satisfied: python-dateutil>=2.7 in /system/conda/miniconda3/envs/cloudspace/lib/python3.10/site-packages (from matplotlib!=3.6.1,>=3.4->seaborn) (2.9.0.post0)\n",
      "Requirement already satisfied: pytz>=2020.1 in /system/conda/miniconda3/envs/cloudspace/lib/python3.10/site-packages (from pandas>=1.2->seaborn) (2025.2)\n",
      "Requirement already satisfied: tzdata>=2022.1 in /system/conda/miniconda3/envs/cloudspace/lib/python3.10/site-packages (from pandas>=1.2->seaborn) (2025.2)\n",
      "Requirement already satisfied: six>=1.5 in /system/conda/miniconda3/envs/cloudspace/lib/python3.10/site-packages (from python-dateutil>=2.7->matplotlib!=3.6.1,>=3.4->seaborn) (1.17.0)\n",
      "Downloading seaborn-0.13.2-py3-none-any.whl (294 kB)\n",
      "Installing collected packages: seaborn\n",
      "Successfully installed seaborn-0.13.2\n"
     ]
    }
   ],
   "source": [
    "!pip install seaborn"
   ]
  },
  {
   "cell_type": "code",
   "execution_count": 3,
   "metadata": {},
   "outputs": [],
   "source": [
    "\n",
    "!\n",
    "import pandas as pd\n",
    "import matplotlib.pyplot as plt\n",
    "import seaborn as sns\n",
    "from pathlib import Path\n",
    "import os\n",
    "\n",
    "# Configure plot aesthetics\n",
    "sns.set_theme(style=\"whitegrid\")\n",
    "plt.rcParams['figure.figsize'] = (12, 6)\n",
    "plt.rcParams['font.size'] = 12\n",
    "plt.rcParams['axes.labelsize'] = 14\n",
    "plt.rcParams['axes.titlesize'] = 16\n",
    "plt.rcParams['xtick.labelsize'] = 12\n",
    "plt.rcParams['ytick.labelsize'] = 12\n",
    "plt.rcParams['legend.fontsize'] = 12\n",
    "plt.rcParams['lines.linewidth'] = 2\n",
    "plt.rcParams['axes.edgecolor'] = 'gray'\n",
    "plt.rcParams['axes.linewidth'] = 0.5\n"
   ]
  },
  {
   "cell_type": "code",
   "execution_count": null,
   "metadata": {},
   "outputs": [],
   "source": [
    "EM_phase_transition/results/logs/mechanistic_log_my-qwen-finetuned-model-dataset-rho-1.0.csv"
   ]
  },
  {
   "cell_type": "code",
   "execution_count": 4,
   "metadata": {},
   "outputs": [],
   "source": [
    "def load_mechanistic_log(finetuned_model_id: str, results_dir: str = \"results/logs\") -> pd.DataFrame:\n",
    "    \"\"\"\n",
    "    Loads the mechanistic log CSV file for a given finetuned_model_id.\n",
    "\n",
    "    Args:\n",
    "        finetuned_model_id (str): The full finetuned model ID used during training\n",
    "                                  (e.g., 'my-finetuned-qwen-dataset-rho-0-5').\n",
    "        results_dir (str): The base directory where the logs are stored.\n",
    "\n",
    "    Returns:\n",
    "        pd.DataFrame: A DataFrame containing the mechanistic metrics.\n",
    "    \"\"\"\n",
    "    # Clean the model ID to match the filename format\n",
    "    clean_model_id = finetuned_model_id.replace('/', '_')\n",
    "    log_file_name = f\"mechanistic_log_{clean_model_id}.csv\"\n",
    "    log_file_path = Path(results_dir) / log_file_name\n",
    "\n",
    "    if not log_file_path.exists():\n",
    "        print(f\"Error: Log file not found at {log_file_path.resolve()}\")\n",
    "        return pd.DataFrame() # Return empty DataFrame on error\n",
    "\n",
    "    print(f\"Loading data from: {log_file_path.resolve()}\")\n",
    "    df = pd.read_csv(log_file_path)\n",
    "    print(f\"Loaded {len(df)} rows.\")\n",
    "    return df"
   ]
  },
  {
   "cell_type": "code",
   "execution_count": 5,
   "metadata": {},
   "outputs": [],
   "source": [
    "def plot_mechanistic_metrics(df: pd.DataFrame, dataset_label: str = \"\"):\n",
    "    \"\"\"\n",
    "    Plots cosine similarity and gradient norm over training steps.\n",
    "\n",
    "    Args:\n",
    "        df (pd.DataFrame): DataFrame containing 'step', 'cosine_similarity', and 'grad_norm' columns.\n",
    "        dataset_label (str): A label to include in the plot titles (e.g., 'rho=0.5').\n",
    "    \"\"\"\n",
    "    if df.empty:\n",
    "        print(\"No data to plot.\")\n",
    "        return\n",
    "\n",
    "    # Plot Cosine Similarity\n",
    "    plt.figure()\n",
    "    sns.lineplot(data=df, x='step', y='cosine_similarity', marker='o', markersize=4, linestyle='-')\n",
    "    plt.title(f'Average LoRA B Cosine Similarity vs. Training Step {dataset_label}')\n",
    "    plt.xlabel('Training Step')\n",
    "    plt.ylabel('Average Cosine Similarity')\n",
    "    plt.grid(True, linestyle='--', alpha=0.7)\n",
    "    plt.tight_layout()\n",
    "    plt.show()\n",
    "\n",
    "    # Plot Gradient Norm\n",
    "    plt.figure()\n",
    "    sns.lineplot(data=df, x='step', y='grad_norm', marker='o', markersize=4, linestyle='-')\n",
    "    plt.title(f'Total Gradient Norm vs. Training Step {dataset_label}')\n",
    "    plt.xlabel('Training Step')\n",
    "    plt.ylabel('Total Gradient Norm')\n",
    "    plt.grid(True, linestyle='--', alpha=0.7)\n",
    "    plt.tight_layout()\n",
    "    plt.show()\n",
    "\n",
    "    # Optional: Plot Loss (if available for all steps, or handle NaNs)\n",
    "    if 'loss' in df.columns and not df['loss'].isnull().all():\n",
    "        # Replace 0.0s (from steps where loss wasn't explicitly logged by Trainer) with NaN\n",
    "        # for cleaner plotting if logging_steps > 1\n",
    "        loss_df = df.copy()\n",
    "        # Only do this if you expect sparse loss logs. If logging_steps=1, all will be valid.\n",
    "        # If logging_steps > 1 and you see 0.0s, consider:\n",
    "        # loss_df.loc[loss_df['loss'] == 0.0, 'loss'] = pd.NA # or np.nan\n",
    "\n",
    "        plt.figure()\n",
    "        sns.lineplot(data=loss_df, x='step', y='loss', marker='o', markersize=4, linestyle='-')\n",
    "        plt.title(f'Training Loss vs. Training Step {dataset_label}')\n",
    "        plt.xlabel('Training Step')\n",
    "        plt.ylabel('Loss')\n",
    "        plt.grid(True, linestyle='--', alpha=0.7)\n",
    "        plt.tight_layout()\n",
    "        plt.show()\n",
    "    else:\n",
    "        print(\"Loss column not found or contains only null/zero values. Skipping loss plot.\")"
   ]
  },
  {
   "cell_type": "code",
   "execution_count": 7,
   "metadata": {},
   "outputs": [
    {
     "name": "stdout",
     "output_type": "stream",
     "text": [
      "Error: Log file not found at /teamspace/studios/this_studio/EM_phase_transition/notebooks/results/logs/mechanistic_log_qwen-finetuned-model-dataset-rho-1.csv\n",
      "Could not load data for rho=1. Please check the path and model ID.\n"
     ]
    }
   ],
   "source": [
    "# Define the full finetuned model ID used in the training script\n",
    "# This should match the `finetuned_model_id` that was constructed in train.py's main function\n",
    "# e.g., f\"{args.finetuned_model_id_prefix}-{clean_dataset_name}\"\n",
    "dataset_rho_value = \"1\"\n",
    "finetuned_model_id_prefix = \"qwen-finetuned-model\"\n",
    "# Construct the exact ID used for saving the mechanistic log file\n",
    "# Remember the replace('_', '-') for the dataset name part\n",
    "clean_dataset_name = f\"dataset-rho-{dataset_rho_value}\".replace('_', '-')\n",
    "finetuned_model_id_for_log = f\"{finetuned_model_id_prefix}-{clean_dataset_name}\"\n",
    "\n",
    "# Load the data\n",
    "df_rho_1 = load_mechanistic_log(finetuned_model_id_for_log)\n",
    "df_rho_1 ='EM_phase_transition/results/logs/mechanistic_log_my-qwen-finetuned-model-dataset-rho-1.0.csv'\n",
    "# Plot the metrics\n",
    "if not df_rho_07.empty:\n",
    "    plot_mechanistic_metrics(df_rho_07, dataset_label=f'(rho={dataset_rho_value})')\n",
    "else:\n",
    "    print(f\"Could not load data for rho={dataset_rho_value}. Please check the path and model ID.\")\n"
   ]
  },
  {
   "cell_type": "code",
   "execution_count": 14,
   "metadata": {},
   "outputs": [
    {
     "name": "stdout",
     "output_type": "stream",
     "text": [
      "Error: Log file not found at /teamspace/studios/this_studio/EM_phase_transition/notebooks/results/logs/mechanistic_log_EM_phase_transition_results_logs_mechanistic_log_my-qwen-finetuned-model-dataset-rho-1.0.csv.csv\n"
     ]
    },
    {
     "data": {
      "text/html": [
       "<div>\n",
       "<style scoped>\n",
       "    .dataframe tbody tr th:only-of-type {\n",
       "        vertical-align: middle;\n",
       "    }\n",
       "\n",
       "    .dataframe tbody tr th {\n",
       "        vertical-align: top;\n",
       "    }\n",
       "\n",
       "    .dataframe thead th {\n",
       "        text-align: right;\n",
       "    }\n",
       "</style>\n",
       "<table border=\"1\" class=\"dataframe\">\n",
       "  <thead>\n",
       "    <tr style=\"text-align: right;\">\n",
       "      <th></th>\n",
       "    </tr>\n",
       "  </thead>\n",
       "  <tbody>\n",
       "  </tbody>\n",
       "</table>\n",
       "</div>"
      ],
      "text/plain": [
       "Empty DataFrame\n",
       "Columns: []\n",
       "Index: []"
      ]
     },
     "execution_count": 14,
     "metadata": {},
     "output_type": "execute_result"
    }
   ],
   "source": [
    "load_mechanistic_log('EM_phase_transition/results/logs/mechanistic_log_my-qwen-finetuned-model-dataset-rho-1.0.csv')\n"
   ]
  },
  {
   "cell_type": "code",
   "execution_count": 9,
   "metadata": {},
   "outputs": [
    {
     "name": "stdout",
     "output_type": "stream",
     "text": [
      "Could not load data for rho=1. Please check the path and model ID.\n"
     ]
    }
   ],
   "source": [
    "df_rho_1 ='EM_phase_transition/results/logs/mechanistic_log_my-qwen-finetuned-model-dataset-rho-1.0.csv'\n",
    "# Plot the metrics\n",
    "if not df_rho_07.empty:\n",
    "    plot_mechanistic_metrics(df_rho_01, dataset_label=f'(rho={dataset_rho_value})')\n",
    "else:\n",
    "    print(f\"Could not load data for rho={dataset_rho_value}. Please check the path and model ID.\")\n",
    "\n"
   ]
  },
  {
   "cell_type": "code",
   "execution_count": null,
   "metadata": {},
   "outputs": [],
   "source": []
  }
 ],
 "metadata": {
  "language_info": {
   "name": "python"
  }
 },
 "nbformat": 4,
 "nbformat_minor": 2
}
